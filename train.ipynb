{
 "cells": [
  {
   "cell_type": "code",
   "execution_count": 136,
   "metadata": {},
   "outputs": [],
   "source": [
    "import numpy as np\n",
    "import pandas as pd\n",
    "\n",
    "from catboost import CatBoostRegressor, CatBoostClassifier, Pool\n",
    "from sklearn.model_selection import train_test_split"
   ]
  },
  {
   "cell_type": "code",
   "execution_count": 137,
   "metadata": {},
   "outputs": [
    {
     "name": "stdout",
     "output_type": "stream",
     "text": [
      "Dataset loaded! train=4878, validation=2403, test=2427\n"
     ]
    }
   ],
   "source": [
    "evaluation_folder = '/Users/glebmarin/projects/intellij-evaluation/2022-05-10_19-28-03/'\n",
    "\n",
    "features_all = pd.read_csv(\n",
    "    f'{evaluation_folder}/completion-ml-performance/features.csv', sep=',', header=1\n",
    ").to_numpy()\n",
    "labels_all = pd.read_csv(\n",
    "    f'{evaluation_folder}/completion-ml-performance/labels.csv', sep=',', header=1\n",
    ").to_numpy()\n",
    "\n",
    "features_train, features_test, labels_train, labels_test = train_test_split(features_all, labels_all, test_size=0.1)\n",
    "\n",
    "N, n_categories = labels_train.shape\n",
    "extended_labels = np.reshape(labels_train.T, (N * n_categories, 1))\n",
    "\n",
    "def with_single_one(pos: int):\n",
    "    return np.concatenate([\n",
    "        np.zeros(pos),\n",
    "        np.ones(1),\n",
    "        np.zeros(n_categories - pos - 1)\n",
    "    ])\n",
    "\n",
    "features_is_category = np.concatenate([\n",
    "    np.repeat(np.reshape(with_single_one(i), (1, n_categories)), N, axis=0)\n",
    "    for i in range(n_categories)\n",
    "])\n",
    "\n",
    "extended_features = np.append(np.concatenate([features_train] * n_categories), features_is_category, axis=1)\n",
    "train_X, valid_X, train_y, valid_y = train_test_split(extended_features, extended_labels, test_size=0.33)\n",
    "\n",
    "print(f'Dataset loaded! train={len(train_X)}, validation={len(valid_X)}, test={len(labels_train)}')"
   ]
  },
  {
   "cell_type": "code",
   "execution_count": 138,
   "metadata": {},
   "outputs": [],
   "source": [
    "train_pool = Pool(train_X, train_y)\n",
    "valid_pool = Pool(valid_X, valid_y)"
   ]
  },
  {
   "cell_type": "code",
   "execution_count": 139,
   "metadata": {},
   "outputs": [],
   "source": [
    "model = CatBoostRegressor(iterations=100)"
   ]
  },
  {
   "cell_type": "code",
   "execution_count": 140,
   "metadata": {},
   "outputs": [
    {
     "data": {
      "application/vnd.jupyter.widget-view+json": {
       "model_id": "56c39f5304fe419b9f1aa274ccb17248",
       "version_major": 2,
       "version_minor": 0
      },
      "text/plain": [
       "MetricVisualizer(layout=Layout(align_self='stretch', height='500px'))"
      ]
     },
     "metadata": {},
     "output_type": "display_data"
    },
    {
     "name": "stdout",
     "output_type": "stream",
     "text": [
      "Learning rate set to 0.266042\n",
      "0:\tlearn: 0.4093868\ttest: 0.4119103\tbest: 0.4119103 (0)\ttotal: 1.03ms\tremaining: 102ms\n",
      "1:\tlearn: 0.3718747\ttest: 0.3709325\tbest: 0.3709325 (1)\ttotal: 2.02ms\tremaining: 99.1ms\n",
      "2:\tlearn: 0.3528302\ttest: 0.3491394\tbest: 0.3491394 (2)\ttotal: 3.73ms\tremaining: 121ms\n",
      "3:\tlearn: 0.3374494\ttest: 0.3325644\tbest: 0.3325644 (3)\ttotal: 4.89ms\tremaining: 117ms\n",
      "4:\tlearn: 0.3310441\ttest: 0.3259803\tbest: 0.3259803 (4)\ttotal: 6.24ms\tremaining: 119ms\n",
      "5:\tlearn: 0.3231430\ttest: 0.3171014\tbest: 0.3171014 (5)\ttotal: 7.47ms\tremaining: 117ms\n",
      "6:\tlearn: 0.3182030\ttest: 0.3114204\tbest: 0.3114204 (6)\ttotal: 8.54ms\tremaining: 113ms\n",
      "7:\tlearn: 0.3134513\ttest: 0.3070500\tbest: 0.3070500 (7)\ttotal: 9.76ms\tremaining: 112ms\n",
      "8:\tlearn: 0.3118405\ttest: 0.3054040\tbest: 0.3054040 (8)\ttotal: 10.8ms\tremaining: 109ms\n",
      "9:\tlearn: 0.3079851\ttest: 0.3017377\tbest: 0.3017377 (9)\ttotal: 11.9ms\tremaining: 107ms\n",
      "10:\tlearn: 0.3072672\ttest: 0.3012407\tbest: 0.3012407 (10)\ttotal: 13.1ms\tremaining: 106ms\n",
      "11:\tlearn: 0.3056885\ttest: 0.2996855\tbest: 0.2996855 (11)\ttotal: 14.2ms\tremaining: 104ms\n",
      "12:\tlearn: 0.3008819\ttest: 0.2950627\tbest: 0.2950627 (12)\ttotal: 15.6ms\tremaining: 104ms\n",
      "13:\tlearn: 0.2986865\ttest: 0.2934159\tbest: 0.2934159 (13)\ttotal: 16.8ms\tremaining: 103ms\n",
      "14:\tlearn: 0.2984066\ttest: 0.2933962\tbest: 0.2933962 (14)\ttotal: 18.3ms\tremaining: 103ms\n",
      "15:\tlearn: 0.2975889\ttest: 0.2926708\tbest: 0.2926708 (15)\ttotal: 20.1ms\tremaining: 105ms\n",
      "16:\tlearn: 0.2964440\ttest: 0.2917761\tbest: 0.2917761 (16)\ttotal: 21.9ms\tremaining: 107ms\n",
      "17:\tlearn: 0.2945615\ttest: 0.2897122\tbest: 0.2897122 (17)\ttotal: 23.3ms\tremaining: 106ms\n",
      "18:\tlearn: 0.2923907\ttest: 0.2884128\tbest: 0.2884128 (18)\ttotal: 24.3ms\tremaining: 104ms\n",
      "19:\tlearn: 0.2916258\ttest: 0.2875314\tbest: 0.2875314 (19)\ttotal: 25.4ms\tremaining: 102ms\n",
      "20:\tlearn: 0.2913396\ttest: 0.2873424\tbest: 0.2873424 (20)\ttotal: 27.1ms\tremaining: 102ms\n",
      "21:\tlearn: 0.2905562\ttest: 0.2870338\tbest: 0.2870338 (21)\ttotal: 28.4ms\tremaining: 101ms\n",
      "22:\tlearn: 0.2898444\ttest: 0.2864526\tbest: 0.2864526 (22)\ttotal: 30ms\tremaining: 100ms\n",
      "23:\tlearn: 0.2892678\ttest: 0.2862592\tbest: 0.2862592 (23)\ttotal: 31ms\tremaining: 98.1ms\n",
      "24:\tlearn: 0.2885075\ttest: 0.2860560\tbest: 0.2860560 (24)\ttotal: 32.3ms\tremaining: 96.8ms\n",
      "25:\tlearn: 0.2883355\ttest: 0.2859256\tbest: 0.2859256 (25)\ttotal: 33.4ms\tremaining: 95.1ms\n",
      "26:\tlearn: 0.2880700\ttest: 0.2858531\tbest: 0.2858531 (26)\ttotal: 34.9ms\tremaining: 94.4ms\n",
      "27:\tlearn: 0.2850560\ttest: 0.2833294\tbest: 0.2833294 (27)\ttotal: 36.1ms\tremaining: 92.9ms\n",
      "28:\tlearn: 0.2841593\ttest: 0.2823939\tbest: 0.2823939 (28)\ttotal: 37ms\tremaining: 90.6ms\n",
      "29:\tlearn: 0.2839566\ttest: 0.2822188\tbest: 0.2822188 (29)\ttotal: 38ms\tremaining: 88.6ms\n",
      "30:\tlearn: 0.2836627\ttest: 0.2819815\tbest: 0.2819815 (30)\ttotal: 39ms\tremaining: 86.9ms\n",
      "31:\tlearn: 0.2834316\ttest: 0.2817616\tbest: 0.2817616 (31)\ttotal: 40.1ms\tremaining: 85.3ms\n",
      "32:\tlearn: 0.2821867\ttest: 0.2807955\tbest: 0.2807955 (32)\ttotal: 41.4ms\tremaining: 84.1ms\n",
      "33:\tlearn: 0.2801560\ttest: 0.2801047\tbest: 0.2801047 (33)\ttotal: 42.5ms\tremaining: 82.5ms\n",
      "34:\tlearn: 0.2797815\ttest: 0.2798776\tbest: 0.2798776 (34)\ttotal: 43.6ms\tremaining: 80.9ms\n",
      "35:\tlearn: 0.2784549\ttest: 0.2784611\tbest: 0.2784611 (35)\ttotal: 44.8ms\tremaining: 79.7ms\n",
      "36:\tlearn: 0.2782068\ttest: 0.2782190\tbest: 0.2782190 (36)\ttotal: 46ms\tremaining: 78.4ms\n",
      "37:\tlearn: 0.2775135\ttest: 0.2781324\tbest: 0.2781324 (37)\ttotal: 47.2ms\tremaining: 77.1ms\n",
      "38:\tlearn: 0.2773092\ttest: 0.2780169\tbest: 0.2780169 (38)\ttotal: 48.5ms\tremaining: 75.9ms\n",
      "39:\tlearn: 0.2764387\ttest: 0.2781246\tbest: 0.2780169 (38)\ttotal: 50ms\tremaining: 75ms\n",
      "40:\tlearn: 0.2759567\ttest: 0.2782635\tbest: 0.2780169 (38)\ttotal: 51.4ms\tremaining: 73.9ms\n",
      "41:\tlearn: 0.2749689\ttest: 0.2773539\tbest: 0.2773539 (41)\ttotal: 53.2ms\tremaining: 73.4ms\n",
      "42:\tlearn: 0.2746773\ttest: 0.2772426\tbest: 0.2772426 (42)\ttotal: 53.9ms\tremaining: 71.5ms\n",
      "43:\tlearn: 0.2741971\ttest: 0.2771150\tbest: 0.2771150 (43)\ttotal: 54.8ms\tremaining: 69.7ms\n",
      "44:\tlearn: 0.2739526\ttest: 0.2772437\tbest: 0.2771150 (43)\ttotal: 55.6ms\tremaining: 68ms\n",
      "45:\tlearn: 0.2733439\ttest: 0.2770715\tbest: 0.2770715 (45)\ttotal: 56.7ms\tremaining: 66.6ms\n",
      "46:\tlearn: 0.2726123\ttest: 0.2769741\tbest: 0.2769741 (46)\ttotal: 57.9ms\tremaining: 65.3ms\n",
      "47:\tlearn: 0.2721955\ttest: 0.2769013\tbest: 0.2769013 (47)\ttotal: 58.9ms\tremaining: 63.8ms\n",
      "48:\tlearn: 0.2718710\ttest: 0.2766978\tbest: 0.2766978 (48)\ttotal: 60.1ms\tremaining: 62.6ms\n",
      "49:\tlearn: 0.2716080\ttest: 0.2764975\tbest: 0.2764975 (49)\ttotal: 61.2ms\tremaining: 61.2ms\n",
      "50:\tlearn: 0.2714602\ttest: 0.2763865\tbest: 0.2763865 (50)\ttotal: 62.1ms\tremaining: 59.6ms\n",
      "51:\tlearn: 0.2712305\ttest: 0.2763923\tbest: 0.2763865 (50)\ttotal: 63.3ms\tremaining: 58.4ms\n",
      "52:\tlearn: 0.2711555\ttest: 0.2762698\tbest: 0.2762698 (52)\ttotal: 64.5ms\tremaining: 57.2ms\n",
      "53:\tlearn: 0.2705657\ttest: 0.2762724\tbest: 0.2762698 (52)\ttotal: 66.2ms\tremaining: 56.4ms\n",
      "54:\tlearn: 0.2700439\ttest: 0.2762139\tbest: 0.2762139 (54)\ttotal: 67.5ms\tremaining: 55.2ms\n",
      "55:\tlearn: 0.2698144\ttest: 0.2762169\tbest: 0.2762139 (54)\ttotal: 68.7ms\tremaining: 54ms\n",
      "56:\tlearn: 0.2695788\ttest: 0.2760544\tbest: 0.2760544 (56)\ttotal: 70ms\tremaining: 52.8ms\n",
      "57:\tlearn: 0.2690467\ttest: 0.2760306\tbest: 0.2760306 (57)\ttotal: 71.3ms\tremaining: 51.6ms\n",
      "58:\tlearn: 0.2685028\ttest: 0.2761386\tbest: 0.2760306 (57)\ttotal: 72.5ms\tremaining: 50.4ms\n",
      "59:\tlearn: 0.2681187\ttest: 0.2759757\tbest: 0.2759757 (59)\ttotal: 73.7ms\tremaining: 49.1ms\n",
      "60:\tlearn: 0.2679602\ttest: 0.2760842\tbest: 0.2759757 (59)\ttotal: 75.2ms\tremaining: 48.1ms\n",
      "61:\tlearn: 0.2672196\ttest: 0.2759293\tbest: 0.2759293 (61)\ttotal: 76.9ms\tremaining: 47.1ms\n",
      "62:\tlearn: 0.2666231\ttest: 0.2757796\tbest: 0.2757796 (62)\ttotal: 78.2ms\tremaining: 45.9ms\n",
      "63:\tlearn: 0.2658632\ttest: 0.2758521\tbest: 0.2757796 (62)\ttotal: 79.5ms\tremaining: 44.7ms\n",
      "64:\tlearn: 0.2656808\ttest: 0.2758941\tbest: 0.2757796 (62)\ttotal: 81ms\tremaining: 43.6ms\n",
      "65:\tlearn: 0.2651040\ttest: 0.2760065\tbest: 0.2757796 (62)\ttotal: 82.7ms\tremaining: 42.6ms\n",
      "66:\tlearn: 0.2649415\ttest: 0.2758005\tbest: 0.2757796 (62)\ttotal: 83.9ms\tremaining: 41.3ms\n",
      "67:\tlearn: 0.2648535\ttest: 0.2757986\tbest: 0.2757796 (62)\ttotal: 85ms\tremaining: 40ms\n",
      "68:\tlearn: 0.2646070\ttest: 0.2758914\tbest: 0.2757796 (62)\ttotal: 86.1ms\tremaining: 38.7ms\n",
      "69:\tlearn: 0.2641401\ttest: 0.2757153\tbest: 0.2757153 (69)\ttotal: 87.1ms\tremaining: 37.3ms\n",
      "70:\tlearn: 0.2637006\ttest: 0.2757065\tbest: 0.2757065 (70)\ttotal: 88.3ms\tremaining: 36.1ms\n",
      "71:\tlearn: 0.2631451\ttest: 0.2754130\tbest: 0.2754130 (71)\ttotal: 89.3ms\tremaining: 34.7ms\n",
      "72:\tlearn: 0.2629577\ttest: 0.2754356\tbest: 0.2754130 (71)\ttotal: 90.6ms\tremaining: 33.5ms\n",
      "73:\tlearn: 0.2626429\ttest: 0.2753837\tbest: 0.2753837 (73)\ttotal: 91.7ms\tremaining: 32.2ms\n",
      "74:\tlearn: 0.2621831\ttest: 0.2749689\tbest: 0.2749689 (74)\ttotal: 92.9ms\tremaining: 31ms\n",
      "75:\tlearn: 0.2617027\ttest: 0.2749255\tbest: 0.2749255 (75)\ttotal: 94.1ms\tremaining: 29.7ms\n",
      "76:\tlearn: 0.2612910\ttest: 0.2750514\tbest: 0.2749255 (75)\ttotal: 95.8ms\tremaining: 28.6ms\n",
      "77:\tlearn: 0.2604373\ttest: 0.2747470\tbest: 0.2747470 (77)\ttotal: 96.8ms\tremaining: 27.3ms\n",
      "78:\tlearn: 0.2603051\ttest: 0.2751078\tbest: 0.2747470 (77)\ttotal: 98ms\tremaining: 26.1ms\n",
      "79:\tlearn: 0.2600549\ttest: 0.2749375\tbest: 0.2747470 (77)\ttotal: 99.1ms\tremaining: 24.8ms\n",
      "80:\tlearn: 0.2597312\ttest: 0.2750289\tbest: 0.2747470 (77)\ttotal: 101ms\tremaining: 23.7ms\n",
      "81:\tlearn: 0.2595999\ttest: 0.2751226\tbest: 0.2747470 (77)\ttotal: 102ms\tremaining: 22.4ms\n",
      "82:\tlearn: 0.2594555\ttest: 0.2750268\tbest: 0.2747470 (77)\ttotal: 103ms\tremaining: 21.1ms\n",
      "83:\tlearn: 0.2591485\ttest: 0.2751362\tbest: 0.2747470 (77)\ttotal: 104ms\tremaining: 19.8ms\n",
      "84:\tlearn: 0.2586279\ttest: 0.2752646\tbest: 0.2747470 (77)\ttotal: 105ms\tremaining: 18.6ms\n",
      "85:\tlearn: 0.2584082\ttest: 0.2750146\tbest: 0.2747470 (77)\ttotal: 106ms\tremaining: 17.3ms\n",
      "86:\tlearn: 0.2581021\ttest: 0.2752633\tbest: 0.2747470 (77)\ttotal: 108ms\tremaining: 16.1ms\n",
      "87:\tlearn: 0.2579012\ttest: 0.2753037\tbest: 0.2747470 (77)\ttotal: 109ms\tremaining: 14.8ms\n",
      "88:\tlearn: 0.2572213\ttest: 0.2747648\tbest: 0.2747470 (77)\ttotal: 110ms\tremaining: 13.6ms\n",
      "89:\tlearn: 0.2568912\ttest: 0.2749051\tbest: 0.2747470 (77)\ttotal: 112ms\tremaining: 12.4ms\n",
      "90:\tlearn: 0.2567553\ttest: 0.2749764\tbest: 0.2747470 (77)\ttotal: 113ms\tremaining: 11.1ms\n",
      "91:\tlearn: 0.2561617\ttest: 0.2749013\tbest: 0.2747470 (77)\ttotal: 114ms\tremaining: 9.9ms\n",
      "92:\tlearn: 0.2557516\ttest: 0.2749229\tbest: 0.2747470 (77)\ttotal: 115ms\tremaining: 8.66ms\n",
      "93:\tlearn: 0.2557021\ttest: 0.2748932\tbest: 0.2747470 (77)\ttotal: 116ms\tremaining: 7.42ms\n",
      "94:\tlearn: 0.2554665\ttest: 0.2746405\tbest: 0.2746405 (94)\ttotal: 117ms\tremaining: 6.17ms\n",
      "95:\tlearn: 0.2550819\ttest: 0.2746008\tbest: 0.2746008 (95)\ttotal: 118ms\tremaining: 4.93ms\n",
      "96:\tlearn: 0.2547757\ttest: 0.2745742\tbest: 0.2745742 (96)\ttotal: 119ms\tremaining: 3.69ms\n",
      "97:\tlearn: 0.2544743\ttest: 0.2745948\tbest: 0.2745742 (96)\ttotal: 120ms\tremaining: 2.46ms\n",
      "98:\tlearn: 0.2543384\ttest: 0.2745945\tbest: 0.2745742 (96)\ttotal: 122ms\tremaining: 1.23ms\n",
      "99:\tlearn: 0.2542292\ttest: 0.2745146\tbest: 0.2745146 (99)\ttotal: 122ms\tremaining: 0us\n",
      "\n",
      "bestTest = 0.2745146202\n",
      "bestIteration = 99\n",
      "\n"
     ]
    }
   ],
   "source": [
    "model.fit(\n",
    "    train_pool,\n",
    "    eval_set=valid_pool,\n",
    "    plot=True, \n",
    "    use_best_model=True\n",
    ")\n",
    "model.save_model('test')"
   ]
  },
  {
   "cell_type": "code",
   "execution_count": 141,
   "metadata": {},
   "outputs": [
    {
     "name": "stdout",
     "output_type": "stream",
     "text": [
      "accuracy=84.07%, n_correct_predictions=227, total=270\n"
     ]
    }
   ],
   "source": [
    "def predict_class(context_features: np.ndarray) -> int:\n",
    "    def extended_features(for_category: int) -> np.ndarray:\n",
    "        return np.concatenate([\n",
    "            context_features,\n",
    "            with_single_one(for_category)\n",
    "        ])\n",
    "    probs = model.predict([extended_features(i) for i in range(n_categories)])\n",
    "    return list(probs).index(max(probs))\n",
    "\n",
    "\n",
    "n_correct_predictions = 0\n",
    "for context_features, label in zip(features_test, labels_test):\n",
    "    actual_class = list(label).index(max(label))\n",
    "    n_correct_predictions += predict_class(context_features) == actual_class\n",
    "print(f'accuracy={100 * n_correct_predictions / len(labels_test):.2f}%, {n_correct_predictions=}, total={len(labels_test)}')"
   ]
  }
 ],
 "metadata": {
  "interpreter": {
   "hash": "dff2e5bb891714c425f8a4c119e684d3e67e2de1a825ff682d91faae5a47f93c"
  },
  "kernelspec": {
   "display_name": "Python 3.9.12 ('ml-completion-performance-OS3UcvPS')",
   "language": "python",
   "name": "python3"
  },
  "language_info": {
   "codemirror_mode": {
    "name": "ipython",
    "version": 3
   },
   "file_extension": ".py",
   "mimetype": "text/x-python",
   "name": "python",
   "nbconvert_exporter": "python",
   "pygments_lexer": "ipython3",
   "version": "3.9.12"
  },
  "orig_nbformat": 4
 },
 "nbformat": 4,
 "nbformat_minor": 2
}
